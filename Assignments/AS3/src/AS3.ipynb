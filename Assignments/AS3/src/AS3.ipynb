{
  "nbformat": 4,
  "nbformat_minor": 0,
  "metadata": {
    "colab": {
      "name": "AS3.ipynb",
      "provenance": [],
      "collapsed_sections": []
    },
    "kernelspec": {
      "name": "python3",
      "display_name": "Python 3"
    }
  },
  "cells": [
    {
      "cell_type": "markdown",
      "metadata": {
        "id": "Ji7WM6T1LXWw"
      },
      "source": [
        "# Assignment 3\n",
        "\n",
        "### Amit Nikam\n",
        "### ID: A20470263\n",
        "### anikam@hawk.iit.edu\n",
        "### CS 512 (V02)\n",
        "### Fall 2020\n",
        "___"
      ]
    },
    {
      "cell_type": "markdown",
      "metadata": {
        "id": "i1CwNwYNtlov"
      },
      "source": [
        "1. Construct and train CNN:"
      ]
    },
    {
      "cell_type": "code",
      "metadata": {
        "id": "nUr40Ri17EB1"
      },
      "source": [
        "from keras import layers\n",
        "from keras import models\n",
        "from keras.datasets import mnist\n",
        "import numpy as np\n",
        "import matplotlib.pyplot as plt"
      ],
      "execution_count": 1,
      "outputs": []
    },
    {
      "cell_type": "code",
      "metadata": {
        "id": "ACD3Fkbp9ZN4"
      },
      "source": [
        "### MODEL\n",
        "def createModel():\n",
        "  # CONV LAYERS\n",
        "  model = models.Sequential()\n",
        "  model.add(layers.Conv2D(64, (3,3), activation='relu', input_shape=(28,28,1)))\n",
        "  model.add(layers.MaxPooling2D((2,2)))\n",
        "  model.add(layers.Conv2D(128, (3,3), activation='relu'))\n",
        "  model.add(layers.MaxPooling2D((2,2)))\n",
        "  # FC DEEP LAYERS\n",
        "  model.add(layers.Flatten())\n",
        "  model.add(layers.Dense(128, activation='relu'))\n",
        "  model.add(layers.Dropout(.15))\n",
        "  model.add(layers.Dense(1, activation='sigmoid'))\n",
        "  model.summary()\n",
        "  return model"
      ],
      "execution_count": 2,
      "outputs": []
    },
    {
      "cell_type": "code",
      "metadata": {
        "id": "4kOhSb2bcoSh",
        "outputId": "6c551887-1db1-430c-bbde-72ca2f907478",
        "colab": {
          "base_uri": "https://localhost:8080/"
        }
      },
      "source": [
        "### TRAINING\n",
        "## LOAD DATA\n",
        "(train_images, train_labels), (test_images, test_labels) = mnist.load_data()\n",
        "# Prepare Images\n",
        "mnist_dataset = np.concatenate((train_images, test_images), axis=0)\n",
        "mnist_dataset = mnist_dataset.reshape((70000,28,28,1))\n",
        "mnist_dataset = mnist_dataset.astype('float32') / 255\n",
        "train_images, validation_images, test_images = np.split(mnist_dataset, [55000, 65000], axis=0)\n",
        "\n",
        "# Prepare Labels\n",
        "mnist_labels = np.concatenate((train_labels, test_labels), axis=None)\n",
        "for idx, item in enumerate(mnist_labels):\n",
        "    if item % 2 == 0:\n",
        "        mnist_labels[idx] = 0     # even number\n",
        "    else:\n",
        "        mnist_labels[idx] = 1  \n",
        "train_labels, validation_labels, test_labels = np.split(mnist_labels, [55000, 65000])\n",
        "\n",
        "## COMPILE & FIT MODEL WITH VALIDATION\n",
        "model = createModel()\n",
        "model.compile(optimizer='adam', loss='binary_crossentropy', metrics=['accuracy'])\n",
        "history = model.fit(train_images,train_labels, epochs=10, batch_size=64, validation_data=(validation_images, validation_labels))"
      ],
      "execution_count": 3,
      "outputs": [
        {
          "output_type": "stream",
          "text": [
            "Model: \"sequential\"\n",
            "_________________________________________________________________\n",
            "Layer (type)                 Output Shape              Param #   \n",
            "=================================================================\n",
            "conv2d (Conv2D)              (None, 26, 26, 64)        640       \n",
            "_________________________________________________________________\n",
            "max_pooling2d (MaxPooling2D) (None, 13, 13, 64)        0         \n",
            "_________________________________________________________________\n",
            "conv2d_1 (Conv2D)            (None, 11, 11, 128)       73856     \n",
            "_________________________________________________________________\n",
            "max_pooling2d_1 (MaxPooling2 (None, 5, 5, 128)         0         \n",
            "_________________________________________________________________\n",
            "flatten (Flatten)            (None, 3200)              0         \n",
            "_________________________________________________________________\n",
            "dense (Dense)                (None, 128)               409728    \n",
            "_________________________________________________________________\n",
            "dropout (Dropout)            (None, 128)               0         \n",
            "_________________________________________________________________\n",
            "dense_1 (Dense)              (None, 1)                 129       \n",
            "=================================================================\n",
            "Total params: 484,353\n",
            "Trainable params: 484,353\n",
            "Non-trainable params: 0\n",
            "_________________________________________________________________\n",
            "Epoch 1/10\n",
            "860/860 [==============================] - 110s 128ms/step - loss: 0.0846 - accuracy: 0.9679 - val_loss: 0.0338 - val_accuracy: 0.9899\n",
            "Epoch 2/10\n",
            "860/860 [==============================] - 113s 132ms/step - loss: 0.0301 - accuracy: 0.9899 - val_loss: 0.0261 - val_accuracy: 0.9922\n",
            "Epoch 3/10\n",
            "860/860 [==============================] - 108s 126ms/step - loss: 0.0204 - accuracy: 0.9928 - val_loss: 0.0245 - val_accuracy: 0.9919\n",
            "Epoch 4/10\n",
            "860/860 [==============================] - 109s 126ms/step - loss: 0.0144 - accuracy: 0.9951 - val_loss: 0.0251 - val_accuracy: 0.9912\n",
            "Epoch 5/10\n",
            "860/860 [==============================] - 109s 127ms/step - loss: 0.0112 - accuracy: 0.9961 - val_loss: 0.0288 - val_accuracy: 0.9922\n",
            "Epoch 6/10\n",
            "860/860 [==============================] - 109s 127ms/step - loss: 0.0085 - accuracy: 0.9972 - val_loss: 0.0259 - val_accuracy: 0.9934\n",
            "Epoch 7/10\n",
            "860/860 [==============================] - 109s 126ms/step - loss: 0.0071 - accuracy: 0.9975 - val_loss: 0.0328 - val_accuracy: 0.9921\n",
            "Epoch 8/10\n",
            "860/860 [==============================] - 108s 126ms/step - loss: 0.0070 - accuracy: 0.9975 - val_loss: 0.0240 - val_accuracy: 0.9939\n",
            "Epoch 9/10\n",
            "860/860 [==============================] - 109s 126ms/step - loss: 0.0050 - accuracy: 0.9982 - val_loss: 0.0309 - val_accuracy: 0.9936\n",
            "Epoch 10/10\n",
            "860/860 [==============================] - 114s 132ms/step - loss: 0.0043 - accuracy: 0.9986 - val_loss: 0.0327 - val_accuracy: 0.9929\n"
          ],
          "name": "stdout"
        }
      ]
    },
    {
      "cell_type": "code",
      "metadata": {
        "id": "AZQIM0L9dcb0",
        "outputId": "6968b1eb-5e2c-40a3-9185-4e904a7efe97",
        "colab": {
          "base_uri": "https://localhost:8080/",
          "height": 607
        }
      },
      "source": [
        "### PLOTTING\n",
        "\n",
        "## PREPARE\n",
        "history_dict = history.history\n",
        "epochs = range(1, len(history_dict['accuracy']) + 1 )\n",
        "\n",
        "# PLOT LOSS AS FUNC OF EPOCHS\n",
        "plt.plot(epochs, history_dict['loss'], 'bo', label='Training Loss')\n",
        "plt.plot(epochs, history_dict['val_loss'], 'b', label='Validation Loss')\n",
        "plt.title('Training & Validation Loss')\n",
        "plt.xlabel('Epochs')\n",
        "plt.xlabel('Loss')\n",
        "plt.legend()\n",
        "plt.show()\n",
        "\n",
        "# PLOT ACCURACY AS FUNC OF EPOCHS\n",
        "plt.plot(epochs, history_dict['accuracy'], 'bo', label='Training Accuracy')\n",
        "plt.plot(epochs, history_dict['val_accuracy'], 'b', label='Validation Accuracy')\n",
        "plt.title('Training & Validation Accuracy')\n",
        "plt.xlabel('Epochs')\n",
        "plt.xlabel('Accuracy')\n",
        "plt.legend()\n",
        "plt.show()\n",
        "\n",
        "# LOSS AND ACCURACY OF FINAL TRAINING STEP\n",
        "print(f'Loss at Final Training Step is: {history_dict[\"loss\"][len(history_dict[\"loss\"])-1]}')\n",
        "print(f'Accuracy at Final Training Step is: {history_dict[\"accuracy\"][len(history_dict[\"accuracy\"])-1]}')"
      ],
      "execution_count": 4,
      "outputs": [
        {
          "output_type": "display_data",
          "data": {
            "image/png": "[encoded data removed]",
            "text/plain": [
              "<Figure size 432x288 with 1 Axes>"
            ]
          },
          "metadata": {
            "tags": [],
            "needs_background": "light"
          }
        },
        {
          "output_type": "display_data",
          "data": {
            "image/png": "[encoded data removed]",
            "text/plain": [
              "<Figure size 432x288 with 1 Axes>"
            ]
          },
          "metadata": {
            "tags": [],
            "needs_background": "light"
          }
        },
        {
          "output_type": "stream",
          "text": [
            "Loss at Final Training Step is: 0.004260866902768612\n",
            "Accuracy at Final Training Step is: 0.9985636472702026\n"
          ],
          "name": "stdout"
        }
      ]
    },
    {
      "cell_type": "code",
      "metadata": {
        "id": "AKVcU_hOuhay",
        "outputId": "0de1b80b-3d81-4239-9aa1-85488f5629ea",
        "colab": {
          "base_uri": "https://localhost:8080/"
        }
      },
      "source": [
        "### SAVE MODEL TO LOAD IN PART 3\n",
        "model.save('./mnist_even-odd')"
      ],
      "execution_count": 5,
      "outputs": [
        {
          "output_type": "stream",
          "text": [
            "WARNING:tensorflow:From /usr/local/lib/python3.6/dist-packages/tensorflow/python/training/tracking/tracking.py:111: Model.state_updates (from tensorflow.python.keras.engine.training) is deprecated and will be removed in a future version.\n",
            "Instructions for updating:\n",
            "This property should not be used in TensorFlow 2.0, as updates are applied automatically.\n",
            "WARNING:tensorflow:From /usr/local/lib/python3.6/dist-packages/tensorflow/python/training/tracking/tracking.py:111: Layer.updates (from tensorflow.python.keras.engine.base_layer) is deprecated and will be removed in a future version.\n",
            "Instructions for updating:\n",
            "This property should not be used in TensorFlow 2.0, as updates are applied automatically.\n",
            "INFO:tensorflow:Assets written to: ./mnist_even-odd/assets\n"
          ],
          "name": "stdout"
        }
      ]
    },
    {
      "cell_type": "markdown",
      "metadata": {
        "id": "gjTnnDB4aQgk"
      },
      "source": [
        "2. Hyper-Parameter Tuning: evaluation in report"
      ]
    },
    {
      "cell_type": "markdown",
      "metadata": {
        "id": "v1nafk87acOJ"
      },
      "source": [
        "3. Inference: OpenCV Application"
      ]
    },
    {
      "cell_type": "code",
      "metadata": {
        "id": "fVhzcBh8abcH"
      },
      "source": [
        "import cv2\n",
        "### Load Saved CNN\n",
        "model = models.load_model('./mnist_even-odd')"
      ],
      "execution_count": 6,
      "outputs": []
    },
    {
      "cell_type": "code",
      "metadata": {
        "id": "iKsk78q8cLQm",
        "outputId": "753ad6fa-2915-48d5-a2f5-a83381990398",
        "colab": {
          "base_uri": "https://localhost:8080/"
        }
      },
      "source": [
        "### TEST LOADED MODEL WITH MNIST DATASET\n",
        "test_loss, test_acc = model.evaluate(test_images,test_labels)\n",
        "print(f\"Test Loss for the model is {test_loss}\\nTest Accuracy for the model is {test_acc}\")"
      ],
      "execution_count": 7,
      "outputs": [
        {
          "output_type": "stream",
          "text": [
            "157/157 [==============================] - 3s 19ms/step - loss: 0.0169 - accuracy: 0.9970\n",
            "Test Loss for the model is 0.016878994181752205\n",
            "Test Accuracy for the model is 0.996999979019165\n"
          ],
          "name": "stdout"
        }
      ]
    },
    {
      "cell_type": "code",
      "metadata": {
        "id": "v_sE6miLfaOj"
      },
      "source": [
        "# READ AND PREPARE MANUAL IMAGES\n",
        "img = cv2.imread('./inference_data/4.jpg')\n",
        "img = cv2.cvtColor(img, cv2.COLOR_BGR2GRAY)\n",
        "img_og = img.copy()\n",
        "img = cv2.resize(img, (28, 28))\n",
        "img = cv2.GaussianBlur(img,(3,3),0)\n",
        "_,img = cv2.threshold(img,0,255,cv2.THRESH_BINARY | cv2.THRESH_OTSU)"
      ],
      "execution_count": 8,
      "outputs": []
    },
    {
      "cell_type": "code",
      "metadata": {
        "id": "O9f94Tbnfc1t",
        "outputId": "59afc2db-67db-4735-e250-e922847f6d66",
        "colab": {
          "base_uri": "https://localhost:8080/",
          "height": 233
        }
      },
      "source": [
        "# PLOT IMAGES\n",
        "plt.figure()\n",
        "_, axarr = plt.subplots(1,2)\n",
        "axarr[0].imshow(cv2.cvtColor(img_og, cv2.COLOR_BGR2RGB))\n",
        "axarr[0].set_title('Original Image')\n",
        "axarr[1].imshow(cv2.cvtColor(img, cv2.COLOR_BGR2RGB))\n",
        "axarr[1].set_title('Binary Image')\n",
        "plt.show()"
      ],
      "execution_count": 9,
      "outputs": [
        {
          "output_type": "display_data",
          "data": {
            "text/plain": [
              "<Figure size 432x288 with 0 Axes>"
            ]
          },
          "metadata": {
            "tags": []
          }
        },
        {
          "output_type": "display_data",
          "data": {
            "image/png": "[encoded data removed]",
            "text/plain": [
              "<Figure size 432x288 with 2 Axes>"
            ]
          },
          "metadata": {
            "tags": [],
            "needs_background": "light"
          }
        }
      ]
    },
    {
      "cell_type": "code",
      "metadata": {
        "id": "luTsqForjxzS"
      },
      "source": [
        "# Normalize after image display and reshape\n",
        "img = img.astype('float32') / 255\n",
        "img = img.reshape((1,28,28,1))"
      ],
      "execution_count": 10,
      "outputs": []
    },
    {
      "cell_type": "code",
      "metadata": {
        "id": "dnYjRndvP-ob",
        "outputId": "0077c608-7381-489d-ab81-5a0747c7305a",
        "colab": {
          "base_uri": "https://localhost:8080/"
        }
      },
      "source": [
        "### INFERENCE\n",
        "infer = model.predict(img)\n",
        "if infer[0][0] < 0.5:\n",
        "  print(f'Prediction: odd number with a confidence of {1-infer[0][0]}')\n",
        "else:\n",
        "  print(f'Prediction: even number with a confidence of {infer[0][0]}')"
      ],
      "execution_count": 11,
      "outputs": [
        {
          "output_type": "stream",
          "text": [
            "Prediction: even number with a confidence of 0.9952982068061829\n"
          ],
          "name": "stdout"
        }
      ]
    }
  ]
}