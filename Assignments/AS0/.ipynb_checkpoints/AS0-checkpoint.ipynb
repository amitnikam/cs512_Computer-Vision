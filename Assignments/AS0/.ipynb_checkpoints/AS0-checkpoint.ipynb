{
 "cells": [
  {
   "cell_type": "markdown",
   "metadata": {},
   "source": [
    "# Assignment 0\n",
    "\n",
    "### Amit Nikam\n",
    "### ID: A20470263\n",
    "### anikam@hawk.iit.edu\n",
    "### CS 512 (V02)\n",
    "### Fall 2020\n",
    "___"
   ]
  },
  {
   "cell_type": "markdown",
   "metadata": {},
   "source": [
    "### E: Repeat A, B, C using python and prepare a python notebook showing your computations.\n",
    "### Solution:"
   ]
  },
  {
   "cell_type": "code",
   "execution_count": 1,
   "metadata": {},
   "outputs": [],
   "source": [
    "import numpy as np\n",
    "import math"
   ]
  },
  {
   "cell_type": "markdown",
   "metadata": {},
   "source": [
    "### A.\n",
    "_given_"
   ]
  },
  {
   "cell_type": "code",
   "execution_count": 2,
   "metadata": {},
   "outputs": [],
   "source": [
    "a = np.array([[1],[2],[3]])\n",
    "b = np.array([[4],[5],[6]])\n",
    "c = np.array([[-1],[1],[3]])"
   ]
  },
  {
   "cell_type": "markdown",
   "metadata": {},
   "source": [
    "##### 1. 2A-B"
   ]
  },
  {
   "cell_type": "code",
   "execution_count": 3,
   "metadata": {},
   "outputs": [
    {
     "name": "stdout",
     "output_type": "stream",
     "text": [
      "[[-2]\n",
      " [-1]\n",
      " [ 0]]\n"
     ]
    }
   ],
   "source": [
    "print((2*a)-b)"
   ]
  },
  {
   "cell_type": "markdown",
   "metadata": {},
   "source": [
    "##### 2. ||A|| and the angle of A relative to the position of X axis."
   ]
  },
  {
   "cell_type": "code",
   "execution_count": 4,
   "metadata": {},
   "outputs": [
    {
     "name": "stdout",
     "output_type": "stream",
     "text": [
      "Angle is 74.498640433063\n"
     ]
    }
   ],
   "source": [
    "length_a = np.linalg.norm(a)\n",
    "cos_theta_x = a[0,0]/length_a\n",
    "cos_inv_x = math.degrees(math.acos(cos_theta_x))\n",
    "print(\"Angle is \" + str(cos_inv_x))"
   ]
  },
  {
   "cell_type": "markdown",
   "metadata": {},
   "source": [
    "##### 3. A, a unit vector in the direction of A"
   ]
  },
  {
   "cell_type": "code",
   "execution_count": 5,
   "metadata": {},
   "outputs": [
    {
     "name": "stdout",
     "output_type": "stream",
     "text": [
      "[[0.26726124]\n",
      " [0.53452248]\n",
      " [0.80178373]]\n"
     ]
    }
   ],
   "source": [
    "print(a/length_a)"
   ]
  },
  {
   "cell_type": "markdown",
   "metadata": {},
   "source": [
    "##### 4. The direction cosines of A "
   ]
  },
  {
   "cell_type": "code",
   "execution_count": 6,
   "metadata": {},
   "outputs": [
    {
     "name": "stdout",
     "output_type": "stream",
     "text": [
      "Angle from X-Axis is 74.498640433063\n",
      "Angle from Y-Axis is 57.688466762576155\n",
      "Angle from Z-Axis is 36.69922520048988\n"
     ]
    }
   ],
   "source": [
    "cos_inv_y = math.degrees(math.acos(a[1,0]/length_a))\n",
    "cos_inv_z = math.degrees(math.acos(a[2,0]/length_a))\n",
    "print(\"Angle from X-Axis is \" + str(cos_inv_x))\n",
    "print(\"Angle from Y-Axis is \" + str(cos_inv_y))\n",
    "print(\"Angle from Z-Axis is \" + str(cos_inv_z))"
   ]
  },
  {
   "cell_type": "markdown",
   "metadata": {},
   "source": [
    "##### 5. A.B and B.A\n",
    "> Note: For column matrix, A.B = B.A = A<sup>T</sup>.B = B<sup>T</sup>.A"
   ]
  },
  {
   "cell_type": "code",
   "execution_count": 7,
   "metadata": {},
   "outputs": [
    {
     "name": "stdout",
     "output_type": "stream",
     "text": [
      "[[32]]\n",
      "[[32]]\n"
     ]
    }
   ],
   "source": [
    "a_dot_b = a.T.dot(b)\n",
    "print(a_dot_b)\n",
    "print(b.T.dot(a))"
   ]
  },
  {
   "cell_type": "markdown",
   "metadata": {},
   "source": [
    "##### 6. The angle between A and B."
   ]
  },
  {
   "cell_type": "code",
   "execution_count": 8,
   "metadata": {},
   "outputs": [
    {
     "name": "stdout",
     "output_type": "stream",
     "text": [
      "Angle between A and B is 12.933154491899135\n"
     ]
    }
   ],
   "source": [
    "length_b = np.linalg.norm(b)\n",
    "cos_theta_ab = a_dot_b / (length_a*length_b)\n",
    "cos_inv_ab = math.degrees(math.acos(cos_theta_ab))\n",
    "print(\"Angle between A and B is \" + str(cos_inv_ab))"
   ]
  },
  {
   "cell_type": "markdown",
   "metadata": {},
   "source": [
    "##### 7. A vector which is perpendicular to A\n",
    "> Note: For two vectors (a,b,c) and (x,y,z) to be perpendicular, ax+by+cz = 0 needs to be true.\n",
    ">\n",
    "> Thus if we assume a and b to be 1, we can get the value of c = -(x+y)/z"
   ]
  },
  {
   "cell_type": "code",
   "execution_count": 9,
   "metadata": {},
   "outputs": [
    {
     "name": "stdout",
     "output_type": "stream",
     "text": [
      "Perpendicular vector to A is (1,1,-1.0)\n"
     ]
    }
   ],
   "source": [
    "a_perp_c = -(a[0,0]+a[1,0])/a[2,0]\n",
    "print(\"Perpendicular vector to A is (1,1,\" + str(a_perp_c) + \")\")"
   ]
  },
  {
   "cell_type": "markdown",
   "metadata": {},
   "source": [
    "##### 8. A x B and B x A"
   ]
  },
  {
   "cell_type": "code",
   "execution_count": 10,
   "metadata": {},
   "outputs": [
    {
     "name": "stdout",
     "output_type": "stream",
     "text": [
      "A x B\n",
      "[[-3]\n",
      " [ 6]\n",
      " [-3]]\n",
      "\n",
      "B x A\n",
      "[[ 3]\n",
      " [-6]\n",
      " [ 3]]\n"
     ]
    }
   ],
   "source": [
    "print(\"A x B\")\n",
    "print(np.cross(a.T,b.T).T)\n",
    "print(\"\\nB x A\")\n",
    "print(np.cross(b.T,a.T).T)"
   ]
  },
  {
   "cell_type": "markdown",
   "metadata": {},
   "source": [
    "##### 9. A vector which is perpendicular to both A and B\n",
    "> Note: Cross product of two vectors is always perpendicular to both of them."
   ]
  },
  {
   "cell_type": "code",
   "execution_count": 11,
   "metadata": {},
   "outputs": [
    {
     "name": "stdout",
     "output_type": "stream",
     "text": [
      "[[-3]\n",
      " [ 6]\n",
      " [-3]]\n"
     ]
    }
   ],
   "source": [
    "print(np.cross(a.T,b.T).T)"
   ]
  },
  {
   "cell_type": "markdown",
   "metadata": {},
   "source": [
    "##### 10. The linear dependency between A, B, C\n",
    "> Note: we will prove the linear dependence between our A, B, C vectors."
   ]
  },
  {
   "cell_type": "code",
   "execution_count": 12,
   "metadata": {},
   "outputs": [
    {
     "name": "stdout",
     "output_type": "stream",
     "text": [
      "If the equality c = 3a-b holds True, the vectors are linear dependent:\n",
      "Answer =  True\n"
     ]
    }
   ],
   "source": [
    "print('If the equality c = 3a-b holds True, the vectors are linear dependent:\\nAnswer = ', np.all(c == 3*a-b))"
   ]
  },
  {
   "cell_type": "markdown",
   "metadata": {},
   "source": [
    "##### 11. A<sup>T</sup>B and AB<sup>T</sup>"
   ]
  },
  {
   "cell_type": "code",
   "execution_count": 13,
   "metadata": {
    "scrolled": true
   },
   "outputs": [
    {
     "name": "stdout",
     "output_type": "stream",
     "text": [
      "[[32]]\n",
      "[[ 4  5  6]\n",
      " [ 8 10 12]\n",
      " [12 15 18]]\n"
     ]
    }
   ],
   "source": [
    "print(a.T.dot(b))\n",
    "print(a.dot(b.T))"
   ]
  },
  {
   "cell_type": "markdown",
   "metadata": {},
   "source": [
    "___\n",
    "### B.\n",
    "given"
   ]
  },
  {
   "cell_type": "code",
   "execution_count": 14,
   "metadata": {},
   "outputs": [],
   "source": [
    "a = np.array([[1,2,3],[4,-2,3],[0,5,-1]])\n",
    "b = np.array([[1,2,1],[2,1,-4],[3,-2,1]])\n",
    "c = np.array([[1,2,3],[4,5,6],[-1,1,3]])"
   ]
  },
  {
   "cell_type": "markdown",
   "metadata": {},
   "source": [
    "##### 1. 2A-B"
   ]
  },
  {
   "cell_type": "code",
   "execution_count": 15,
   "metadata": {},
   "outputs": [
    {
     "name": "stdout",
     "output_type": "stream",
     "text": [
      "[[ 1  2  5]\n",
      " [ 6 -5 10]\n",
      " [-3 12 -3]]\n"
     ]
    }
   ],
   "source": [
    "print(2*a-b)"
   ]
  },
  {
   "cell_type": "markdown",
   "metadata": {},
   "source": [
    "##### 2. AB and BA"
   ]
  },
  {
   "cell_type": "code",
   "execution_count": 16,
   "metadata": {},
   "outputs": [
    {
     "name": "stdout",
     "output_type": "stream",
     "text": [
      "AB\n",
      "[[ 14  -2  -4]\n",
      " [  9   0  15]\n",
      " [  7   7 -21]]\n",
      "\n",
      "BA\n",
      "[[  9   3   8]\n",
      " [  6 -18  13]\n",
      " [ -5  15   2]]\n"
     ]
    }
   ],
   "source": [
    "print(\"AB\")\n",
    "print(a.dot(b))\n",
    "print(\"\\nBA\")\n",
    "print(b.dot(a))"
   ]
  },
  {
   "cell_type": "markdown",
   "metadata": {},
   "source": [
    "##### 3. (AB)<sup>T</sup> and B<sup>T</sup>A<sup>T</sup> \n",
    "> Note: (AB)<sup>T</sup> = B<sup>T</sup>A<sup>T</sup> "
   ]
  },
  {
   "cell_type": "code",
   "execution_count": 17,
   "metadata": {},
   "outputs": [
    {
     "name": "stdout",
     "output_type": "stream",
     "text": [
      "[[ 14   9   7]\n",
      " [ -2   0   7]\n",
      " [ -4  15 -21]]\n"
     ]
    }
   ],
   "source": [
    "print((a.dot(b)).T)"
   ]
  },
  {
   "cell_type": "markdown",
   "metadata": {},
   "source": [
    "##### 4. |A| and |C|"
   ]
  },
  {
   "cell_type": "code",
   "execution_count": 18,
   "metadata": {},
   "outputs": [
    {
     "name": "stdout",
     "output_type": "stream",
     "text": [
      "|A|\n",
      " 55.0\n",
      "\n",
      "|C|\n",
      " 0.0\n"
     ]
    }
   ],
   "source": [
    "print(\"|A|\\n\", round(np.linalg.det(a)))\n",
    "print(\"\\n|C|\\n\", round(np.linalg.det(c)))"
   ]
  },
  {
   "cell_type": "markdown",
   "metadata": {},
   "source": [
    "##### 5. The matrix (A, B, C) in which the row vectors form an orthogonal set"
   ]
  },
  {
   "cell_type": "code",
   "execution_count": 19,
   "metadata": {},
   "outputs": [
    {
     "name": "stdout",
     "output_type": "stream",
     "text": [
      "A  Is Not Orthogonal\n",
      "B  Is Orthogonal\n",
      "C  Is Not Orthogonal\n"
     ]
    }
   ],
   "source": [
    "def ortho(mat):\n",
    "    check=mat.dot(mat.T)\n",
    "    if check[1,0]==0 and check[2,0]==0 and check[2,1]==0 and check[0,1]==0 and check[0,2]==0 and check[1,2]==0:\n",
    "        return \"Is Orthogonal\"\n",
    "    else:\n",
    "        return \"Is Not Orthogonal\"\n",
    "\n",
    "print(\"A \", ortho(a))\n",
    "print(\"B \", ortho(b))\n",
    "print(\"C \", ortho(c))"
   ]
  },
  {
   "cell_type": "markdown",
   "metadata": {},
   "source": [
    "##### 6. A<sup>-1</sup> and B<sup>-1</sup>"
   ]
  },
  {
   "cell_type": "code",
   "execution_count": 20,
   "metadata": {},
   "outputs": [
    {
     "name": "stdout",
     "output_type": "stream",
     "text": [
      "A inverse is\n",
      " [[-0.23636364  0.30909091  0.21818182]\n",
      " [ 0.07272727 -0.01818182  0.16363636]\n",
      " [ 0.36363636 -0.09090909 -0.18181818]]\n",
      "\n",
      "B inverse is\n",
      " [[ 0.16666667  0.0952381   0.21428571]\n",
      " [ 0.33333333  0.04761905 -0.14285714]\n",
      " [ 0.16666667 -0.19047619  0.07142857]]\n"
     ]
    }
   ],
   "source": [
    "print(\"A inverse is\\n\", np.linalg.inv(a))\n",
    "print(\"\\nB inverse is\\n\", np.linalg.inv(b))"
   ]
  },
  {
   "cell_type": "markdown",
   "metadata": {},
   "source": [
    "___\n",
    "### C.\n",
    "given"
   ]
  },
  {
   "cell_type": "code",
   "execution_count": 21,
   "metadata": {},
   "outputs": [],
   "source": [
    "a = np.array([[1,2],[3,2]])\n",
    "b = np.array([[2,-2],[-2,5]])"
   ]
  },
  {
   "cell_type": "markdown",
   "metadata": {},
   "source": [
    "##### 1. The eigenvalues and corresponding eigenvectors of A"
   ]
  },
  {
   "cell_type": "code",
   "execution_count": 22,
   "metadata": {},
   "outputs": [
    {
     "name": "stdout",
     "output_type": "stream",
     "text": [
      "Eigenvalues of A are  [-1.  4.]\n",
      "\n",
      "Eigenvectors of A are  [[-0.70710678 -0.5547002 ]\n",
      " [ 0.70710678 -0.83205029]]\n"
     ]
    }
   ],
   "source": [
    "vala, veca = np.linalg.eig(a)\n",
    "print(\"Eigenvalues of A are \", vala)\n",
    "print(\"\\nEigenvectors of A are \", veca)"
   ]
  },
  {
   "cell_type": "markdown",
   "metadata": {},
   "source": [
    "##### 2. The matric V<sup>-1</sup>AV where V is composed of the eigenvectors of A"
   ]
  },
  {
   "cell_type": "code",
   "execution_count": 23,
   "metadata": {},
   "outputs": [
    {
     "name": "stdout",
     "output_type": "stream",
     "text": [
      "[[-0.70710678 -0.5547002 ]\n",
      " [ 0.70710678 -0.83205029]]\n"
     ]
    }
   ],
   "source": [
    "print(np.dot(np.linalg.inv(a),np.dot(a,veca)))"
   ]
  },
  {
   "cell_type": "markdown",
   "metadata": {},
   "source": [
    "##### 3. The dot product between the eigenvectors of A."
   ]
  },
  {
   "cell_type": "code",
   "execution_count": 24,
   "metadata": {},
   "outputs": [
    {
     "name": "stdout",
     "output_type": "stream",
     "text": [
      "-0.038461538461538214\n"
     ]
    }
   ],
   "source": [
    "print(np.dot(veca[0,:],veca[1,:]))"
   ]
  },
  {
   "cell_type": "markdown",
   "metadata": {},
   "source": [
    "##### 4. The dot product between the eigenvectors of B."
   ]
  },
  {
   "cell_type": "code",
   "execution_count": 25,
   "metadata": {},
   "outputs": [
    {
     "name": "stdout",
     "output_type": "stream",
     "text": [
      "0.0\n"
     ]
    }
   ],
   "source": [
    "valb, vecb = np.linalg.eig(b)\n",
    "print(np.dot(vecb[0,:],vecb[1,:]))"
   ]
  },
  {
   "cell_type": "markdown",
   "metadata": {},
   "source": [
    "##### 5. The property of the eigenvectors of B and its reason.\n",
    "> Since the dot product of the eigenvectors of B is 0, B has orthogonal vectors."
   ]
  }
 ],
 "metadata": {
  "kernelspec": {
   "display_name": "Python 3",
   "language": "python",
   "name": "python3"
  },
  "language_info": {
   "codemirror_mode": {
    "name": "ipython",
    "version": 3
   },
   "file_extension": ".py",
   "mimetype": "text/x-python",
   "name": "python",
   "nbconvert_exporter": "python",
   "pygments_lexer": "ipython3",
   "version": "3.8.3"
  }
 },
 "nbformat": 4,
 "nbformat_minor": 4
}
